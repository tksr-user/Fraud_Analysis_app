{
 "cells": [
  {
   "cell_type": "code",
   "execution_count": 7,
   "id": "5aba58cd-ffb5-4428-90d0-7a7540d969ef",
   "metadata": {
    "scrolled": true
   },
   "outputs": [
    {
     "data": {
      "application/vnd.jupyter.widget-view+json": {
       "model_id": "617459cefa6043ecbef494eb92d76d95",
       "version_major": 2,
       "version_minor": 0
      },
      "text/plain": [
       "Downloading artifacts:   0%|          | 0/1 [00:00<?, ?it/s]"
      ]
     },
     "metadata": {},
     "output_type": "display_data"
    },
    {
     "data": {
      "application/vnd.jupyter.widget-view+json": {
       "model_id": "83c9c565b0ba41d2a541efb24dabdc04",
       "version_major": 2,
       "version_minor": 0
      },
      "text/plain": [
       "Downloading artifacts:   0%|          | 0/1 [00:00<?, ?it/s]"
      ]
     },
     "metadata": {},
     "output_type": "display_data"
    },
    {
     "name": "stdout",
     "output_type": "stream",
     "text": [
      "📊 Loading and preparing data...\n"
     ]
    },
    {
     "ename": "NameError",
     "evalue": "name 'model' is not defined",
     "output_type": "error",
     "traceback": [
      "\u001b[31m---------------------------------------------------------------------------\u001b[39m",
      "\u001b[31mNameError\u001b[39m                                 Traceback (most recent call last)",
      "\u001b[36mCell\u001b[39m\u001b[36m \u001b[39m\u001b[32mIn[7]\u001b[39m\u001b[32m, line 47\u001b[39m\n\u001b[32m     44\u001b[39m \u001b[38;5;28;01massert\u001b[39;00m \u001b[38;5;28mlist\u001b[39m(X.columns) == \u001b[38;5;28mlist\u001b[39m(feature_names), \u001b[33m\"\u001b[39m\u001b[33mMismatch in input features\u001b[39m\u001b[33m\"\u001b[39m\n\u001b[32m     46\u001b[39m \u001b[38;5;66;03m# === 3. Make Predictions ===\u001b[39;00m\n\u001b[32m---> \u001b[39m\u001b[32m47\u001b[39m predictions = \u001b[43mmodel\u001b[49m.predict(X_test)\n\u001b[32m     48\u001b[39m \u001b[38;5;28mprint\u001b[39m(\u001b[33m\"\u001b[39m\u001b[33m🧠 Running model predictions...\u001b[39m\u001b[33m\"\u001b[39m)\n\u001b[32m     49\u001b[39m X[\u001b[33m\"\u001b[39m\u001b[33mprediction\u001b[39m\u001b[33m\"\u001b[39m] = model.predict(X)\n",
      "\u001b[31mNameError\u001b[39m: name 'model' is not defined"
     ]
    }
   ],
   "source": [
    "# log_to_arize.py\n",
    "\n",
    "import joblib\n",
    "import pandas as pd\n",
    "import mlflow\n",
    "import uuid\n",
    "from arize.pandas.logger import Client\n",
    "from arize.utils.types import Schema, ModelTypes, Environments\n",
    "\n",
    "# === CONFIG ===\n",
    "mlflow.set_tracking_uri(\"http://127.0.0.1:5000\")\n",
    "\n",
    "PARQUET_PATH = \"datas/fraud_data.parquet\"\n",
    "FEATURE_NAMES_PATH = \"artifacts/feature_names.pkl\"\n",
    "space_key = \"U3BhY2U6MjM3MTI6RThBTQ==\"                   # ✅ Already base64 encoded\n",
    "api_key = \"ak-8c93aa68-e105-4c23-b977-4ffb437fe7a5-rZPuli0UaGIrRAJ3x-OkK1sg_l5e5mFT\"\n",
    "MODEL_ID = \"fraud_detection_model\"\n",
    "MODEL_VERSION = \"v1\"\n",
    "\n",
    "# ✅  Load artifacts\n",
    "mlflow.set_tracking_uri(\"http://127.0.0.1:5000\")\n",
    "run_id = \"a888a830080d4488b27c3d04f9393220\"\n",
    "\n",
    "# ✅  Download model.pkl artifact and load it\n",
    "local_model_path = mlflow.artifacts.download_artifacts(\n",
    "    run_id=run_id,\n",
    "    artifact_path=\"LogisticRegression_all_features/model.pkl\"\n",
    ")\n",
    "# === 2. Load and Prepare Data ===\n",
    "print(\"📊 Loading and preparing data...\")\n",
    "df = pd.read_parquet(PARQUET_PATH).sample(n=1000, random_state=42)\n",
    "X = df.drop(columns=[\"Class\"])\n",
    "y = df[\"Class\"]\n",
    "\n",
    "# ✅ Load the saved feature names\n",
    "feature_names = joblib.load(FEATURE_NAMES_PATH)\n",
    "\n",
    "# ✅ Align test features to training features\n",
    "X = pd.get_dummies(X)\n",
    "for col in feature_names:\n",
    "    if col not in X.columns:\n",
    "        X[col] = 0\n",
    "X = X[feature_names]  # Enforce correct column order\n",
    "assert list(X.columns) == list(feature_names), \"Mismatch in input features\"\n",
    "\n",
    "# === 3. Make Predictions ===\n",
    "predictions = model.predict(X_test)\n",
    "print(\"🧠 Running model predictions...\")\n",
    "X[\"prediction\"] = model.predict(X)\n",
    "X[\"actual\"] = y.values\n",
    "X[\"prediction_id\"] = [str(uuid.uuid4()) for _ in range(len(X))]\n",
    "\n",
    "# === 4. Prepare DataFrame for Arize ===\n",
    "log_df = X.copy()\n",
    "log_df.reset_index(drop=True, inplace=True)\n",
    "\n",
    "# === 5. Arize Client Setup ===\n",
    "print(\"🚀 Logging to Arize...\")\n",
    "client = Client(space_key=space_key, api_key=api_key)\n",
    "\n",
    "schema = Schema(\n",
    "    prediction_id_column_name=\"prediction_id\",\n",
    "    prediction_label_column_name=\"prediction\",\n",
    "    actual_label_column_name=\"actual\"\n",
    ")\n",
    "\n",
    "# === 6. Log Data to Arize ===\n",
    "response = client.log(\n",
    "    model_id=MODEL_ID,\n",
    "    model_version=MODEL_VERSION,\n",
    "    model_type=ModelTypes.BINARY_CLASSIFICATION,\n",
    "    environment=Environments.PRODUCTION,\n",
    "    dataframe=log_df.head(100),   # Log only top 100 samples\n",
    "    schema=schema\n",
    ")\n",
    "\n",
    "# === 7. Show Log Status ===\n",
    "print(f\"✅ Arize log status: {response.status_code}\")\n",
    "print(response.text)\n"
   ]
  },
  {
   "cell_type": "code",
   "execution_count": null,
   "id": "5e25d91d-4572-4698-b0a3-a2c4e806b2f7",
   "metadata": {},
   "outputs": [],
   "source": []
  }
 ],
 "metadata": {
  "kernelspec": {
   "display_name": "Python 3 (ipykernel)",
   "language": "python",
   "name": "python3"
  },
  "language_info": {
   "codemirror_mode": {
    "name": "ipython",
    "version": 3
   },
   "file_extension": ".py",
   "mimetype": "text/x-python",
   "name": "python",
   "nbconvert_exporter": "python",
   "pygments_lexer": "ipython3",
   "version": "3.11.9"
  }
 },
 "nbformat": 4,
 "nbformat_minor": 5
}
